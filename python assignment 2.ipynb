{
 "cells": [
  {
   "cell_type": "code",
   "execution_count": 6,
   "metadata": {},
   "outputs": [
    {
     "name": "stdout",
     "output_type": "stream",
     "text": [
      "No. of rows (odd)9\n",
      "* \n",
      "* * \n",
      "* * * \n",
      "* * * * \n",
      "* * * * * \n",
      "* * * * \n",
      "* * * \n",
      "* * \n",
      "* \n"
     ]
    }
   ],
   "source": [
    "n=int(input(\"No. of rows (odd)\"))\n",
    "if(n&1!=0):\n",
    "    for i in range(n):\n",
    "        if(i<=n//2):\n",
    "            for j in range(i+1):\n",
    "                print(\"*\",end=\" \")\n",
    "        else:\n",
    "            for j in range(n-i):\n",
    "                print(\"*\",end=\" \")\n",
    "        print()\n",
    "else:\n",
    "    print(\"No. of rows should be odd\")"
   ]
  },
  {
   "cell_type": "code",
   "execution_count": 7,
   "metadata": {},
   "outputs": [
    {
     "name": "stdout",
     "output_type": "stream",
     "text": [
      "Input : ineuron\n",
      "Output : norueni\n"
     ]
    }
   ],
   "source": [
    "s=input(\"Input : \")\n",
    "print(\"Output :\",s[::-1])"
   ]
  }
 ],
 "metadata": {
  "kernelspec": {
   "display_name": "Python 3",
   "language": "python",
   "name": "python3"
  },
  "language_info": {
   "codemirror_mode": {
    "name": "ipython",
    "version": 3
   },
   "file_extension": ".py",
   "mimetype": "text/x-python",
   "name": "python",
   "nbconvert_exporter": "python",
   "pygments_lexer": "ipython3",
   "version": "3.7.1"
  }
 },
 "nbformat": 4,
 "nbformat_minor": 2
}
